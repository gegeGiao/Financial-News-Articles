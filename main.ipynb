{
 "cells": [
  {
   "cell_type": "markdown",
   "metadata": {},
   "source": [
    "# Financial News Sentiment Analysis\n",
    "## Problem Statement and Objective\n",
    "This project aims to fine-tune a BERT-based model to classify financial news articles as positive, neutral, or negative. The goal is to analyze the correlation between sentiment predictions and stock market trends."
   ]
  },
  {
   "cell_type": "code",
   "execution_count": 1,
   "metadata": {},
   "outputs": [
    {
     "name": "stderr",
     "output_type": "stream",
     "text": [
      "c:\\Users\\lenovo\\AppData\\Local\\Programs\\Python\\Python312\\Lib\\site-packages\\tqdm\\auto.py:21: TqdmWarning: IProgress not found. Please update jupyter and ipywidgets. See https://ipywidgets.readthedocs.io/en/stable/user_install.html\n",
      "  from .autonotebook import tqdm as notebook_tqdm\n"
     ]
    }
   ],
   "source": [
    "import pandas as pd\n",
    "import numpy as np\n",
    "import torch\n",
    "from datasets import load_dataset\n",
    "from sklearn.model_selection import train_test_split\n",
    "\n",
    "# Transformers library\n",
    "from transformers import BertTokenizer, BertForSequenceClassification, Trainer, TrainingArguments\n",
    "\n",
    "import yfinance as yf\n"
   ]
  },
  {
   "cell_type": "markdown",
   "metadata": {},
   "source": [
    "Data Loading and Preprocessing"
   ]
  },
  {
   "cell_type": "code",
   "execution_count": null,
   "metadata": {},
   "outputs": [
    {
     "name": "stdout",
     "output_type": "stream",
     "text": [
      "Training Data Sample:\n",
      "                                                   text  label\n",
      "5470  When staffers in WeWork's New York City headqu...      2\n",
      "8982  ADMA Biologics down 9% premarket after pricing...      0\n",
      "4704  Illegal Tender podcast: What it was like to be...      2\n",
      "1954  The Splunk Data-to-Everything Platform Brings ...      2\n",
      "3146  OPEC's share of Indian oil imports in October ...      2\n",
      "\n",
      "Validation Data Sample:\n",
      "                                                   text  label\n",
      "544   Two key regulators are holding off on easing W...      2\n",
      "1911  Xinjiang Xinxin Mining Industry : ANNOUNCEMENT...      2\n",
      "1493  $NVS - Novartis: Swiss Pharmaceutical Titan On...      2\n",
      "2383  Stocks making the biggest moves midday: TD Ame...      2\n",
      "744                       Twitter's Q4 Earnings Preview      2\n"
     ]
    }
   ],
   "source": [
    "\n",
    "\n",
    "# Load the dataset from Hugging Face\n",
    "dataset = load_dataset(\"zeroshot/twitter-financial-news-sentiment\")\n",
    "\n",
    "# Convert to Pandas DataFrame\n",
    "train_df = dataset[\"train\"].to_pandas()\n",
    "validation_df = dataset[\"validation\"].to_pandas()\n",
    "\n",
    "train_df = train_df.sample(frac=0.1, random_state=42)\n",
    "validation_df = validation_df.sample(frac=0.1, random_state=42)\n",
    "\n",
    "# Inspect the dataset\n",
    "print(\"Training Data Sample:\")\n",
    "print(train_df.head())\n",
    "print(\"\\nValidation Data Sample:\")\n",
    "print(validation_df.head())\n"
   ]
  },
  {
   "cell_type": "markdown",
   "metadata": {},
   "source": [
    "Preprocessing"
   ]
  },
  {
   "cell_type": "code",
   "execution_count": 3,
   "metadata": {},
   "outputs": [],
   "source": [
    "\n",
    "# Initialize BERT tokenizer\n",
    "tokenizer = BertTokenizer.from_pretrained(\"bert-base-uncased\")\n",
    "\n",
    "# Tokenize Function\n",
    "def tokenize_function(texts):\n",
    "    return tokenizer(\n",
    "        texts,\n",
    "        padding=\"max_length\",\n",
    "        truncation=True,\n",
    "        max_length=128,\n",
    "        return_tensors=\"pt\"\n",
    "    )\n",
    "\n",
    "# Tokenize the datasets\n",
    "train_encodings = tokenize_function(train_df[\"text\"].tolist())\n",
    "validation_encodings = tokenize_function(validation_df[\"text\"].tolist())\n",
    "\n",
    "# Convert labels to tensors\n",
    "import torch\n",
    "train_labels = torch.tensor(train_df[\"label\"].tolist())\n",
    "validation_labels = torch.tensor(validation_df[\"label\"].tolist())\n"
   ]
  },
  {
   "cell_type": "markdown",
   "metadata": {},
   "source": [
    "Model Fine-Tuning"
   ]
  },
  {
   "cell_type": "code",
   "execution_count": 4,
   "metadata": {},
   "outputs": [
    {
     "name": "stderr",
     "output_type": "stream",
     "text": [
      "Some weights of BertForSequenceClassification were not initialized from the model checkpoint at bert-base-uncased and are newly initialized: ['classifier.bias', 'classifier.weight']\n",
      "You should probably TRAIN this model on a down-stream task to be able to use it for predictions and inference.\n",
      "c:\\Users\\lenovo\\AppData\\Local\\Programs\\Python\\Python312\\Lib\\site-packages\\transformers\\training_args.py:1568: FutureWarning: `evaluation_strategy` is deprecated and will be removed in version 4.46 of 🤗 Transformers. Use `eval_strategy` instead\n",
      "  warnings.warn(\n",
      "C:\\Users\\lenovo\\AppData\\Local\\Temp\\ipykernel_11676\\3302559575.py:41: FutureWarning: `tokenizer` is deprecated and will be removed in version 5.0.0 for `Trainer.__init__`. Use `processing_class` instead.\n",
      "  trainer = Trainer(\n",
      "  6%|▌         | 10/180 [00:46<13:06,  4.63s/it]"
     ]
    },
    {
     "name": "stdout",
     "output_type": "stream",
     "text": [
      "{'loss': 1.0636, 'grad_norm': 9.023855209350586, 'learning_rate': 1.0000000000000002e-06, 'epoch': 0.17}\n"
     ]
    },
    {
     "name": "stderr",
     "output_type": "stream",
     "text": [
      " 11%|█         | 20/180 [01:33<12:28,  4.68s/it]"
     ]
    },
    {
     "name": "stdout",
     "output_type": "stream",
     "text": [
      "{'loss': 1.0536, 'grad_norm': 6.527893543243408, 'learning_rate': 2.0000000000000003e-06, 'epoch': 0.33}\n"
     ]
    },
    {
     "name": "stderr",
     "output_type": "stream",
     "text": [
      " 17%|█▋        | 30/180 [02:18<11:29,  4.59s/it]"
     ]
    },
    {
     "name": "stdout",
     "output_type": "stream",
     "text": [
      "{'loss': 1.0238, 'grad_norm': 9.86236572265625, 'learning_rate': 3e-06, 'epoch': 0.5}\n"
     ]
    },
    {
     "name": "stderr",
     "output_type": "stream",
     "text": [
      " 22%|██▏       | 40/180 [03:05<10:48,  4.63s/it]"
     ]
    },
    {
     "name": "stdout",
     "output_type": "stream",
     "text": [
      "{'loss': 0.9678, 'grad_norm': 5.978876113891602, 'learning_rate': 4.000000000000001e-06, 'epoch': 0.67}\n"
     ]
    },
    {
     "name": "stderr",
     "output_type": "stream",
     "text": [
      " 28%|██▊       | 50/180 [03:51<09:40,  4.47s/it]"
     ]
    },
    {
     "name": "stdout",
     "output_type": "stream",
     "text": [
      "{'loss': 0.9736, 'grad_norm': 6.493703365325928, 'learning_rate': 5e-06, 'epoch': 0.83}\n"
     ]
    },
    {
     "name": "stderr",
     "output_type": "stream",
     "text": [
      " 33%|███▎      | 60/180 [04:33<07:50,  3.92s/it]"
     ]
    },
    {
     "name": "stdout",
     "output_type": "stream",
     "text": [
      "{'loss': 0.9822, 'grad_norm': 3.9810500144958496, 'learning_rate': 6e-06, 'epoch': 1.0}\n"
     ]
    },
    {
     "name": "stderr",
     "output_type": "stream",
     "text": [
      "                                                \n",
      " 33%|███▎      | 60/180 [04:52<07:50,  3.92s/it]"
     ]
    },
    {
     "name": "stdout",
     "output_type": "stream",
     "text": [
      "{'eval_loss': 0.8678572177886963, 'eval_runtime': 19.063, 'eval_samples_per_second': 12.537, 'eval_steps_per_second': 0.787, 'epoch': 1.0}\n"
     ]
    },
    {
     "name": "stderr",
     "output_type": "stream",
     "text": [
      " 39%|███▉      | 70/180 [05:41<09:05,  4.96s/it]"
     ]
    },
    {
     "name": "stdout",
     "output_type": "stream",
     "text": [
      "{'loss': 0.9735, 'grad_norm': 4.448819637298584, 'learning_rate': 7.000000000000001e-06, 'epoch': 1.17}\n"
     ]
    },
    {
     "name": "stderr",
     "output_type": "stream",
     "text": [
      " 44%|████▍     | 80/180 [06:30<08:21,  5.01s/it]"
     ]
    },
    {
     "name": "stdout",
     "output_type": "stream",
     "text": [
      "{'loss': 0.8353, 'grad_norm': 5.319490432739258, 'learning_rate': 8.000000000000001e-06, 'epoch': 1.33}\n"
     ]
    },
    {
     "name": "stderr",
     "output_type": "stream",
     "text": [
      " 50%|█████     | 90/180 [07:20<07:09,  4.78s/it]"
     ]
    },
    {
     "name": "stdout",
     "output_type": "stream",
     "text": [
      "{'loss': 0.8634, 'grad_norm': 3.670576333999634, 'learning_rate': 9e-06, 'epoch': 1.5}\n"
     ]
    },
    {
     "name": "stderr",
     "output_type": "stream",
     "text": [
      " 56%|█████▌    | 100/180 [08:07<06:15,  4.70s/it]"
     ]
    },
    {
     "name": "stdout",
     "output_type": "stream",
     "text": [
      "{'loss': 0.8362, 'grad_norm': 4.9309186935424805, 'learning_rate': 1e-05, 'epoch': 1.67}\n"
     ]
    },
    {
     "name": "stderr",
     "output_type": "stream",
     "text": [
      " 61%|██████    | 110/180 [08:53<05:19,  4.56s/it]"
     ]
    },
    {
     "name": "stdout",
     "output_type": "stream",
     "text": [
      "{'loss': 0.8726, 'grad_norm': 7.813277244567871, 'learning_rate': 1.1000000000000001e-05, 'epoch': 1.83}\n"
     ]
    },
    {
     "name": "stderr",
     "output_type": "stream",
     "text": [
      " 67%|██████▋   | 120/180 [09:40<04:15,  4.25s/it]"
     ]
    },
    {
     "name": "stdout",
     "output_type": "stream",
     "text": [
      "{'loss': 0.8327, 'grad_norm': 22.230066299438477, 'learning_rate': 1.2e-05, 'epoch': 2.0}\n"
     ]
    },
    {
     "name": "stderr",
     "output_type": "stream",
     "text": [
      "                                                 \n",
      " 67%|██████▋   | 120/180 [09:59<04:15,  4.25s/it]"
     ]
    },
    {
     "name": "stdout",
     "output_type": "stream",
     "text": [
      "{'eval_loss': 0.6667165756225586, 'eval_runtime': 19.4212, 'eval_samples_per_second': 12.306, 'eval_steps_per_second': 0.772, 'epoch': 2.0}\n"
     ]
    },
    {
     "name": "stderr",
     "output_type": "stream",
     "text": [
      " 72%|███████▏  | 130/180 [10:46<03:59,  4.80s/it]"
     ]
    },
    {
     "name": "stdout",
     "output_type": "stream",
     "text": [
      "{'loss': 0.6924, 'grad_norm': 5.17667293548584, 'learning_rate': 1.3000000000000001e-05, 'epoch': 2.17}\n"
     ]
    },
    {
     "name": "stderr",
     "output_type": "stream",
     "text": [
      " 78%|███████▊  | 140/180 [11:31<03:02,  4.55s/it]"
     ]
    },
    {
     "name": "stdout",
     "output_type": "stream",
     "text": [
      "{'loss': 0.6776, 'grad_norm': 30.142688751220703, 'learning_rate': 1.4000000000000001e-05, 'epoch': 2.33}\n"
     ]
    },
    {
     "name": "stderr",
     "output_type": "stream",
     "text": [
      " 83%|████████▎ | 150/180 [12:17<02:17,  4.57s/it]"
     ]
    },
    {
     "name": "stdout",
     "output_type": "stream",
     "text": [
      "{'loss': 0.6477, 'grad_norm': 7.765005111694336, 'learning_rate': 1.5e-05, 'epoch': 2.5}\n"
     ]
    },
    {
     "name": "stderr",
     "output_type": "stream",
     "text": [
      " 89%|████████▉ | 160/180 [13:02<01:30,  4.51s/it]"
     ]
    },
    {
     "name": "stdout",
     "output_type": "stream",
     "text": [
      "{'loss': 0.6368, 'grad_norm': 6.139225006103516, 'learning_rate': 1.6000000000000003e-05, 'epoch': 2.67}\n"
     ]
    },
    {
     "name": "stderr",
     "output_type": "stream",
     "text": [
      " 94%|█████████▍| 170/180 [13:47<00:45,  4.52s/it]"
     ]
    },
    {
     "name": "stdout",
     "output_type": "stream",
     "text": [
      "{'loss': 0.6184, 'grad_norm': 10.403949737548828, 'learning_rate': 1.7000000000000003e-05, 'epoch': 2.83}\n"
     ]
    },
    {
     "name": "stderr",
     "output_type": "stream",
     "text": [
      "100%|██████████| 180/180 [14:30<00:00,  4.02s/it]"
     ]
    },
    {
     "name": "stdout",
     "output_type": "stream",
     "text": [
      "{'loss': 0.6676, 'grad_norm': 15.705012321472168, 'learning_rate': 1.8e-05, 'epoch': 3.0}\n"
     ]
    },
    {
     "name": "stderr",
     "output_type": "stream",
     "text": [
      "                                                 \n",
      "100%|██████████| 180/180 [14:51<00:00,  4.02s/it]"
     ]
    },
    {
     "name": "stdout",
     "output_type": "stream",
     "text": [
      "{'eval_loss': 0.5396742820739746, 'eval_runtime': 19.3836, 'eval_samples_per_second': 12.33, 'eval_steps_per_second': 0.774, 'epoch': 3.0}\n"
     ]
    },
    {
     "name": "stderr",
     "output_type": "stream",
     "text": [
      "100%|██████████| 180/180 [14:52<00:00,  4.96s/it]"
     ]
    },
    {
     "name": "stdout",
     "output_type": "stream",
     "text": [
      "{'train_runtime': 892.5104, 'train_samples_per_second': 3.207, 'train_steps_per_second': 0.202, 'train_loss': 0.8454781638251411, 'epoch': 3.0}\n"
     ]
    },
    {
     "name": "stderr",
     "output_type": "stream",
     "text": [
      "\n"
     ]
    },
    {
     "data": {
      "text/plain": [
       "TrainOutput(global_step=180, training_loss=0.8454781638251411, metrics={'train_runtime': 892.5104, 'train_samples_per_second': 3.207, 'train_steps_per_second': 0.202, 'total_flos': 188257650384384.0, 'train_loss': 0.8454781638251411, 'epoch': 3.0})"
      ]
     },
     "execution_count": 4,
     "metadata": {},
     "output_type": "execute_result"
    }
   ],
   "source": [
    "from torch.utils.data import Dataset\n",
    "from transformers import BertForSequenceClassification, Trainer, TrainingArguments\n",
    "\n",
    "# Create a custom PyTorch Dataset\n",
    "class SentimentDataset(Dataset):\n",
    "    def __init__(self, encodings, labels):\n",
    "        self.encodings = encodings\n",
    "        self.labels = labels\n",
    "\n",
    "    def __len__(self):\n",
    "        return len(self.labels)\n",
    "\n",
    "    def __getitem__(self, idx):\n",
    "        item = {key: val[idx] for key, val in self.encodings.items()}\n",
    "        item[\"labels\"] = self.labels[idx]\n",
    "        return item\n",
    "\n",
    "# Create datasets\n",
    "train_dataset = SentimentDataset(train_encodings, train_labels)\n",
    "validation_dataset = SentimentDataset(validation_encodings, validation_labels)\n",
    "\n",
    "# Load pre-trained BERT model\n",
    "model = BertForSequenceClassification.from_pretrained(\"bert-base-uncased\", num_labels=3)\n",
    "\n",
    "# Define training arguments\n",
    "training_args = TrainingArguments(\n",
    "    output_dir=\"./results\",\n",
    "    num_train_epochs=3,\n",
    "    per_device_train_batch_size=16,\n",
    "    per_device_eval_batch_size=16,\n",
    "    warmup_steps=500,\n",
    "    weight_decay=0.01,\n",
    "    evaluation_strategy=\"epoch\",\n",
    "    save_strategy=\"epoch\",\n",
    "    load_best_model_at_end=True,\n",
    "    logging_dir=\"./logs\",\n",
    "    logging_steps=10,\n",
    ")\n",
    "\n",
    "# Create a Trainer\n",
    "trainer = Trainer(\n",
    "    model=model,\n",
    "    args=training_args,\n",
    "    train_dataset=train_dataset,\n",
    "    eval_dataset=validation_dataset,\n",
    "    tokenizer=tokenizer,\n",
    ")\n",
    "\n",
    "# Fine-tune the model\n",
    "trainer.train()\n"
   ]
  },
  {
   "cell_type": "markdown",
   "metadata": {},
   "source": [
    "Training Loss:\n",
    "The final training loss (train_loss): 0.8455\n",
    "Indicates the model is learning but still has room for improvement, especially since the evaluation loss is significantly lower.\n",
    "Learning Curve:\n",
    "\n",
    "The loss consistently decreases over epochs:\n",
    "Epoch 1: ~0.9822 (final eval loss: 0.8679)\n",
    "Epoch 2: ~0.8327 (final eval loss: 0.6667)\n",
    "Epoch 3: ~0.6676 (final eval loss: 0.5397)\n",
    "Suggests the model is converging well."
   ]
  },
  {
   "cell_type": "markdown",
   "metadata": {},
   "source": [
    "Evaluation and Analysis"
   ]
  },
  {
   "cell_type": "code",
   "execution_count": 5,
   "metadata": {},
   "outputs": [
    {
     "name": "stderr",
     "output_type": "stream",
     "text": [
      "100%|██████████| 15/15 [00:18<00:00,  1.23s/it]"
     ]
    },
    {
     "name": "stdout",
     "output_type": "stream",
     "text": [
      "Evaluation Results: {'eval_loss': 0.5396742820739746, 'eval_runtime': 19.7608, 'eval_samples_per_second': 12.095, 'eval_steps_per_second': 0.759, 'epoch': 3.0}\n"
     ]
    },
    {
     "name": "stderr",
     "output_type": "stream",
     "text": [
      "\n"
     ]
    }
   ],
   "source": [
    "# Evaluate the model\n",
    "results = trainer.evaluate()\n",
    "print(\"Evaluation Results:\", results)"
   ]
  },
  {
   "cell_type": "markdown",
   "metadata": {},
   "source": [
    "Evaluation Loss: 0.5397\n",
    "This is lower than the training loss, which might indicate the model generalizes better on the validation set.\n",
    "\n",
    "Samples and Steps:\n",
    "Samples per second: ~12\n",
    "Steps per second: ~0.76\n",
    "Shows the speed of evaluation."
   ]
  },
  {
   "cell_type": "markdown",
   "metadata": {},
   "source": [
    "Predictions and Insights"
   ]
  },
  {
   "cell_type": "code",
   "execution_count": 6,
   "metadata": {},
   "outputs": [
    {
     "name": "stderr",
     "output_type": "stream",
     "text": [
      "100%|██████████| 15/15 [00:17<00:00,  1.19s/it]"
     ]
    },
    {
     "name": "stdout",
     "output_type": "stream",
     "text": [
      "Predictions:\n",
      "                                                   text  label  \\\n",
      "544   Two key regulators are holding off on easing W...      2   \n",
      "1911  Xinjiang Xinxin Mining Industry : ANNOUNCEMENT...      2   \n",
      "1493  $NVS - Novartis: Swiss Pharmaceutical Titan On...      2   \n",
      "2383  Stocks making the biggest moves midday: TD Ame...      2   \n",
      "744                       Twitter's Q4 Earnings Preview      2   \n",
      "\n",
      "      predicted_label  \n",
      "544                 2  \n",
      "1911                2  \n",
      "1493                2  \n",
      "2383                2  \n",
      "744                 2  \n",
      "\n",
      "Misclassified Examples:\n",
      "                                                   text  label  \\\n",
      "111   Jerome Powell comes close to acknowledging tha...      0   \n",
      "1567  Goldman Sachs sees China lowering its economic...      0   \n",
      "807   Oil Price Fundamental Daily Forecast – Lack of...      2   \n",
      "237   Tezos rallies into the top ten cryptocurrencie...      1   \n",
      "508   30-year Treasury yield plumbs key 2% support l...      0   \n",
      "\n",
      "      predicted_label  \n",
      "111                 2  \n",
      "1567                2  \n",
      "807                 1  \n",
      "237                 2  \n",
      "508                 1  \n"
     ]
    },
    {
     "name": "stderr",
     "output_type": "stream",
     "text": [
      "\n"
     ]
    }
   ],
   "source": [
    "# Make predictions on the validation dataset\n",
    "predictions = trainer.predict(validation_dataset)\n",
    "\n",
    "# Convert predictions to sentiment labels\n",
    "predicted_labels = torch.argmax(torch.tensor(predictions.predictions), axis=1)\n",
    "\n",
    "# Add predictions to validation DataFrame\n",
    "validation_df[\"predicted_label\"] = predicted_labels.numpy()\n",
    "\n",
    "# Display some predictions\n",
    "print(\"Predictions:\")\n",
    "print(validation_df[[\"text\", \"label\", \"predicted_label\"]].head())\n",
    "\n",
    "# Analyze misclassified examples\n",
    "misclassified = validation_df[validation_df[\"label\"] != validation_df[\"predicted_label\"]]\n",
    "print(\"\\nMisclassified Examples:\")\n",
    "print(misclassified[[\"text\", \"label\", \"predicted_label\"]].head())\n"
   ]
  },
  {
   "cell_type": "markdown",
   "metadata": {},
   "source": [
    "Prediction Results\n",
    "\n",
    "\n",
    "Correct Predictions:\n",
    "Example: \"Two key regulators are holding off on easing Wall Street rules...\" correctly labeled as 2 (Neutral).\n",
    "The model correctly identifies a lot of neutral content.\n",
    "\n",
    "\n",
    "Misclassified Examples:\n",
    "Case 1: \"Jerome Powell comes close to acknowledging that higher rates...\"\n",
    "True Label: 0 (Negative), Predicted: 2 (Neutral).\n",
    "\n",
    "Misclassification might stem from a lack of strongly negative cues in the phrasing.\n",
    "\n",
    "Case 2: \"Goldman Sachs sees China lowering its economic growth...\"\n",
    "True Label: 0 (Negative), Predicted: 2 (Neutral).\n",
    "\n",
    "The model likely interprets this as neutral or lacking overtly negative language.\n",
    "\n",
    "Case 3: \"Tezos rallies into the top ten cryptocurrencies...\"\n",
    "True Label: 1 (Positive), Predicted: 2 (Neutral).\n",
    "\n",
    "Positive sentiment in \"rallies\" and \"top ten\" seems overlooked."
   ]
  },
  {
   "cell_type": "markdown",
   "metadata": {},
   "source": [
    "The model performs well in distinguishing neutral content but struggles with subtle negative or positive cues.\n",
    "\n",
    "Misclassifications suggest it may benefit from additional training on examples with stronger sentiment expressions.\n",
    "\n",
    "Potential Improvements:\n",
    "\n",
    "Add more training data with diverse negative and positive samples.\n",
    "Incorporate domain-specific fine-tuning, such as financial sentiment lexicons or additional labeled datasets.\n"
   ]
  },
  {
   "cell_type": "markdown",
   "metadata": {},
   "source": [
    "Learning Curve"
   ]
  },
  {
   "cell_type": "code",
   "execution_count": 8,
   "metadata": {},
   "outputs": [
    {
     "data": {
      "image/png": "[encoded data removed]",
      "text/plain": [
       "<Figure size 800x600 with 1 Axes>"
      ]
     },
     "metadata": {},
     "output_type": "display_data"
    }
   ],
   "source": [
    "import matplotlib.pyplot as plt\n",
    "\n",
    "# Training loss values over epochs\n",
    "epochs = [1, 2, 3]\n",
    "train_loss = [0.9822, 0.8327, 0.6676]\n",
    "\n",
    "# Plot\n",
    "plt.figure(figsize=(8, 6))\n",
    "plt.plot(epochs, train_loss, marker='o', label=\"Training Loss\")\n",
    "plt.title(\"Learning Curve\")\n",
    "plt.xlabel(\"Epoch\")\n",
    "plt.ylabel(\"Loss\")\n",
    "plt.legend()\n",
    "plt.grid()\n",
    "plt.show()\n"
   ]
  },
  {
   "cell_type": "markdown",
   "metadata": {},
   "source": [
    "The training loss decreases steadily from 0.98 to 0.67 across three epochs, indicating that the model is learning effectively.\n",
    "The slope of the curve suggests that additional training epochs might lead to further improvements but with diminishing returns."
   ]
  },
  {
   "cell_type": "code",
   "execution_count": 9,
   "metadata": {},
   "outputs": [
    {
     "data": {
      "text/plain": [
       "<Figure size 800x600 with 0 Axes>"
      ]
     },
     "metadata": {},
     "output_type": "display_data"
    },
    {
     "data": {
      "image/png": "[encoded data removed]",
      "text/plain": [
       "<Figure size 640x480 with 2 Axes>"
      ]
     },
     "metadata": {},
     "output_type": "display_data"
    }
   ],
   "source": [
    "from sklearn.metrics import confusion_matrix, ConfusionMatrixDisplay\n",
    "\n",
    "# True and predicted labels from the validation dataset\n",
    "true_labels = [2, 2, 2, 2, 2, 0, 0, 2, 1, 0]  # Combined from correct and misclassified examples\n",
    "predicted_labels = [2, 2, 2, 2, 2, 2, 2, 1, 2, 1]\n",
    "\n",
    "# Compute confusion matrix\n",
    "cm = confusion_matrix(true_labels, predicted_labels, labels=[0, 1, 2])\n",
    "disp = ConfusionMatrixDisplay(confusion_matrix=cm, display_labels=[\"Negative\", \"Positive\", \"Neutral\"])\n",
    "\n",
    "# Plot\n",
    "plt.figure(figsize=(8, 6))\n",
    "disp.plot(cmap=plt.cm.Blues, values_format=\"d\")\n",
    "plt.title(\"Confusion Matrix\")\n",
    "plt.show()\n"
   ]
  },
  {
   "cell_type": "markdown",
   "metadata": {},
   "source": [
    "Observation:\n",
    "\n",
    "Neutral (label 2): Most accurately classified, with 5 correct predictions.\n",
    "Negative (label 0): Poorly classified; all instances misclassified as either neutral or positive.\n",
    "Positive (label 1): One correct prediction, but others misclassified as neutral.\n",
    "\n",
    "\n",
    "\n",
    "Key Insights:\n",
    "\n",
    "The model struggles to differentiate between negative and positive sentiments, likely due to class imbalance or subtle sentiment cues in the text.\n",
    "Neutral dominates the predictions, suggesting the model may have learned a bias towards the majority class."
   ]
  },
  {
   "cell_type": "code",
   "execution_count": 10,
   "metadata": {},
   "outputs": [
    {
     "data": {
      "image/png": "[encoded data removed]",
      "text/plain": [
       "<Figure size 1200x600 with 2 Axes>"
      ]
     },
     "metadata": {},
     "output_type": "display_data"
    }
   ],
   "source": [
    "# Class distribution for training and validation datasets\n",
    "train_distribution = train_df[\"label\"].value_counts()\n",
    "validation_distribution = validation_df[\"label\"].value_counts()\n",
    "\n",
    "# Plot class distribution\n",
    "fig, ax = plt.subplots(1, 2, figsize=(12, 6))\n",
    "train_distribution.plot(kind=\"bar\", ax=ax[0], title=\"Training Class Distribution\", xlabel=\"Class\", ylabel=\"Count\")\n",
    "validation_distribution.plot(kind=\"bar\", ax=ax[1], title=\"Validation Class Distribution\", xlabel=\"Class\", ylabel=\"Count\")\n",
    "plt.tight_layout()\n",
    "plt.show()\n"
   ]
  },
  {
   "cell_type": "markdown",
   "metadata": {},
   "source": [
    "Observation:\n",
    "\n",
    "Neutral (label 2) is the majority class in both training and validation datasets.\n",
    "Positive (label 1) and Negative (label 0) are underrepresented, which likely contributes to the model’s bias towards predicting neutral."
   ]
  },
  {
   "cell_type": "code",
   "execution_count": 12,
   "metadata": {},
   "outputs": [],
   "source": [
    "import pandas as pd\n",
    "\n",
    "# Combine true labels, predicted labels, and text into a DataFrame\n",
    "results_df = pd.DataFrame({\n",
    "    \"Text\": validation_df[\"text\"],\n",
    "    \"True_Label\": validation_df[\"label\"],\n",
    "    \"Predicted_Label\": validation_df[\"predicted_label\"]\n",
    "})\n",
    "\n",
    "# Save to a CSV file\n",
    "results_df.to_csv(\"prediction_results.csv\", index=False)\n",
    "\n",
    "# Save to a TXT file (optional, with a cleaner format)\n",
    "with open(\"prediction_results.txt\", \"w\", encoding=\"utf-8\") as f:\n",
    "    for idx, row in results_df.iterrows():\n",
    "        f.write(f\"Text: {row['Text']}\\nTrue Label: {row['True_Label']}\\nPredicted Label: {row['Predicted_Label']}\\n\\n\")\n",
    "\n"
   ]
  }
 ],
 "metadata": {
  "kernelspec": {
   "display_name": "Python 3",
   "language": "python",
   "name": "python3"
  },
  "language_info": {
   "codemirror_mode": {
    "name": "ipython",
    "version": 3
   },
   "file_extension": ".py",
   "mimetype": "text/x-python",
   "name": "python",
   "nbconvert_exporter": "python",
   "pygments_lexer": "ipython3",
   "version": "3.12.6"
  }
 },
 "nbformat": 4,
 "nbformat_minor": 2
}
